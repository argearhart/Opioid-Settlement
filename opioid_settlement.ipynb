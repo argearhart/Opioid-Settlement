{
 "cells": [
  {
   "cell_type": "markdown",
   "metadata": {},
   "source": [
    "Opioid Settlement Payouts Data from KFF Health News https://kffhealthnews.org/opioid-settlements/"
   ]
  },
  {
   "cell_type": "code",
   "execution_count": 37,
   "metadata": {},
   "outputs": [],
   "source": [
    "import pandas as pd\n",
    "import numpy as np\n",
    "\n",
    "import os"
   ]
  },
  {
   "cell_type": "code",
   "execution_count": 38,
   "metadata": {},
   "outputs": [],
   "source": [
    "# Set pandas display option to format floats with commas\n",
    "pd.options.display.float_format = '{:,.2f}'.format"
   ]
  },
  {
   "cell_type": "code",
   "execution_count": 39,
   "metadata": {},
   "outputs": [
    {
     "name": "stdout",
     "output_type": "stream",
     "text": [
      "         name  2022 settlement payout received  \\\n",
      "0     Alabama                              NaN   \n",
      "1      Alaska                    12,659,625.14   \n",
      "2     Arizona                    64,711,719.27   \n",
      "3    Arkansas                    46,532,891.66   \n",
      "4  California                   282,165,225.08   \n",
      "\n",
      "   2023 settlement payout received  2024 estimated future payout  \\\n",
      "0                              NaN                           NaN   \n",
      "1                     2,152,924.07                  2,780,784.41   \n",
      "2                    32,636,542.16                 44,724,172.02   \n",
      "3                     8,049,659.95                 10,075,289.71   \n",
      "4                   137,461,655.35                168,369,723.68   \n",
      "\n",
      "   2025 estimated future payout  2026 estimated future payout  \\\n",
      "0                           NaN                           NaN   \n",
      "1                  2,694,689.45                  3,113,944.04   \n",
      "2                 46,071,147.49                 28,570,326.56   \n",
      "3                 10,075,289.71                 11,629,948.67   \n",
      "4                173,279,465.93                104,442,921.95   \n",
      "\n",
      "   2027 estimated future payout  2028 estimated future payout  \\\n",
      "0                           NaN                           NaN   \n",
      "1                  3,113,944.04                  3,588,534.03   \n",
      "2                 28,570,326.53                 32,932,530.35   \n",
      "3                 11,629,948.66                 13,404,413.52   \n",
      "4                104,442,921.85                124,249,689.67   \n",
      "\n",
      "   2029 estimated future payout  2030 estimated future payout  ...  est_2029  \\\n",
      "0                           NaN                           NaN  ...       NaN   \n",
      "1                  3,703,063.88                  3,703,063.88  ...       NaN   \n",
      "2                 33,971,150.34                 33,971,150.37  ...       NaN   \n",
      "3                 13,829,107.37                 13,829,107.38  ...       NaN   \n",
      "4                128,444,216.41                128,444,216.52  ...       NaN   \n",
      "\n",
      "   est_2030  est_2031  est_2032  est_2033  est_2034  est_2035  est_2036  \\\n",
      "0       NaN       NaN       NaN       NaN       NaN       NaN       NaN   \n",
      "1       NaN       NaN       NaN       NaN       NaN       NaN       NaN   \n",
      "2       NaN       NaN       NaN       NaN       NaN       NaN       NaN   \n",
      "3       NaN       NaN       NaN       NaN       NaN       NaN       NaN   \n",
      "4       NaN       NaN       NaN       NaN       NaN       NaN       NaN   \n",
      "\n",
      "   est_2037  est_2038  \n",
      "0       NaN       NaN  \n",
      "1       NaN       NaN  \n",
      "2       NaN       NaN  \n",
      "3       NaN       NaN  \n",
      "4       NaN       NaN  \n",
      "\n",
      "[5 rows x 43 columns]\n"
     ]
    }
   ],
   "source": [
    "# Load the Excel file\n",
    "file_path = 'Opioid-Settlement-Payouts-Data_040124.xlsx'\n",
    "xls = pd.ExcelFile(file_path)  #creates an object to hold the information\n",
    "\n",
    "# Define the sheet(s) to exclude\n",
    "sheets_to_exclude = ['Terms of Use']  \n",
    "\n",
    "# List to hold individual DataFrames\n",
    "dfs = []\n",
    "\n",
    "# Loop through the sheets\n",
    "for sheet_name in xls.sheet_names:\n",
    "    if sheet_name not in sheets_to_exclude:\n",
    "        # Read each sheet into a DataFrame\n",
    "        df = pd.read_excel(xls, sheet_name=sheet_name)\n",
    "        \n",
    "        # add a column to identify the sheet\n",
    "        df['Sheet'] = sheet_name\n",
    "        \n",
    "        # Append the DataFrame to the list\n",
    "        dfs.append(df)\n",
    "\n",
    "# Concatenate all DataFrames into one\n",
    "combined_df = pd.concat(dfs, ignore_index=True)\n",
    "\n",
    "# Display the first few rows of the combined DataFrame\n",
    "print(combined_df.head())"
   ]
  },
  {
   "cell_type": "markdown",
   "metadata": {},
   "source": [
    "Alabama and West Virginia data contains N/A.  Drop these states."
   ]
  },
  {
   "cell_type": "code",
   "execution_count": 40,
   "metadata": {},
   "outputs": [
    {
     "name": "stdout",
     "output_type": "stream",
     "text": [
      "         name  2022 settlement payout received  \\\n",
      "1      Alaska                    12,659,625.14   \n",
      "2     Arizona                    64,711,719.27   \n",
      "3    Arkansas                    46,532,891.66   \n",
      "4  California                   282,165,225.08   \n",
      "5    Colorado                    44,778,002.07   \n",
      "\n",
      "   2023 settlement payout received  2024 estimated future payout  \\\n",
      "1                     2,152,924.07                  2,780,784.41   \n",
      "2                    32,636,542.16                 44,724,172.02   \n",
      "3                     8,049,659.95                 10,075,289.71   \n",
      "4                   137,461,655.35                168,369,723.68   \n",
      "5                    14,531,328.42                 31,315,104.88   \n",
      "\n",
      "   2025 estimated future payout  2026 estimated future payout  \\\n",
      "1                  2,694,689.45                  3,113,944.04   \n",
      "2                 46,071,147.49                 28,570,326.56   \n",
      "3                 10,075,289.71                 11,629,948.67   \n",
      "4                173,279,465.93                104,442,921.95   \n",
      "5                 32,224,836.62                 19,983,745.90   \n",
      "\n",
      "   2027 estimated future payout  2028 estimated future payout  \\\n",
      "1                  3,113,944.04                  3,588,534.03   \n",
      "2                 28,570,326.53                 32,932,530.35   \n",
      "3                 11,629,948.66                 13,404,413.52   \n",
      "4                104,442,921.85                124,249,689.67   \n",
      "5                 19,983,745.89                 23,034,924.62   \n",
      "\n",
      "   2029 estimated future payout  2030 estimated future payout  ...  est_2029  \\\n",
      "1                  3,703,063.88                  3,703,063.88  ...       NaN   \n",
      "2                 33,971,150.34                 33,971,150.37  ...       NaN   \n",
      "3                 13,829,107.37                 13,829,107.38  ...       NaN   \n",
      "4                128,444,216.41                128,444,216.52  ...       NaN   \n",
      "5                 23,761,395.77                 23,761,395.79  ...       NaN   \n",
      "\n",
      "   est_2030  est_2031  est_2032  est_2033  est_2034  est_2035  est_2036  \\\n",
      "1       NaN       NaN       NaN       NaN       NaN       NaN       NaN   \n",
      "2       NaN       NaN       NaN       NaN       NaN       NaN       NaN   \n",
      "3       NaN       NaN       NaN       NaN       NaN       NaN       NaN   \n",
      "4       NaN       NaN       NaN       NaN       NaN       NaN       NaN   \n",
      "5       NaN       NaN       NaN       NaN       NaN       NaN       NaN   \n",
      "\n",
      "   est_2037  est_2038  \n",
      "1       NaN       NaN  \n",
      "2       NaN       NaN  \n",
      "3       NaN       NaN  \n",
      "4       NaN       NaN  \n",
      "5       NaN       NaN  \n",
      "\n",
      "[5 rows x 43 columns]\n"
     ]
    }
   ],
   "source": [
    "filtered_df = combined_df[~combined_df['name'].isin(['Alabama', 'West Virginia'])]\n",
    "print(filtered_df.head())"
   ]
  },
  {
   "cell_type": "code",
   "execution_count": null,
   "metadata": {},
   "outputs": [],
   "source": []
  }
 ],
 "metadata": {
  "kernelspec": {
   "display_name": "venv",
   "language": "python",
   "name": "python3"
  },
  "language_info": {
   "codemirror_mode": {
    "name": "ipython",
    "version": 3
   },
   "file_extension": ".py",
   "mimetype": "text/x-python",
   "name": "python",
   "nbconvert_exporter": "python",
   "pygments_lexer": "ipython3",
   "version": "3.12.0"
  }
 },
 "nbformat": 4,
 "nbformat_minor": 2
}
